{
 "cells": [
  {
   "cell_type": "code",
   "execution_count": 1,
   "metadata": {},
   "outputs": [
    {
     "data": {
      "application/vnd.jupyter.widget-view+json": {
       "model_id": "febd08b265a04ddc93f9b11d3c2ecf05",
       "version_major": 2,
       "version_minor": 0
      },
      "text/plain": [
       "interactive(children=(FloatSlider(value=1.0, description='mu1_x', max=5.0, min=-5.0), FloatSlider(value=2.0, d…"
      ]
     },
     "metadata": {},
     "output_type": "display_data"
    },
    {
     "data": {
      "text/plain": [
       "<function __main__.kullback_leibler(mu1_x, mu1_y, mu2_x, mu2_y, cov1_xx, cov1_xy, cov1_yy, cov2_xx, cov2_xy, cov2_yy)>"
      ]
     },
     "execution_count": 1,
     "metadata": {},
     "output_type": "execute_result"
    }
   ],
   "source": [
    "import ipywidgets as widgets\n",
    "import matplotlib.pyplot as plt\n",
    "import numpy as np\n",
    "from matplotlib.patches import Ellipse\n",
    "import matplotlib.transforms as transforms\n",
    "\n",
    "def kl_divergence(mu, m, Sigma, S):\n",
    "    det_Sigma = np.linalg.det(Sigma)\n",
    "    det_S = np.linalg.det(S)\n",
    "    S_inv = np.linalg.inv(S)\n",
    "\n",
    "    term1 = np.log(det_S/det_Sigma)+(m-mu).T@S_inv@(m-mu)+np.trace(S_inv@Sigma)-len(mu)\n",
    "    return (1/2)*term1\n",
    "\n",
    "def covariance_ellipse(cov, mean, ax, color = \"green\", n_std = 3):\n",
    "    pearson = cov[0, 1]/np.sqrt(cov[0, 0] * cov[1, 1])\n",
    "    # Using a special case to obtain the eigenvalues of this\n",
    "    # two-dimensional dataset.\n",
    "    ell_radius_x = np.sqrt(1 + pearson)\n",
    "    ell_radius_y = np.sqrt(1 - pearson)\n",
    "    ellipse = Ellipse((0, 0), width=ell_radius_x * 2, height=ell_radius_y * 2, facecolor='none', edgecolor=color)\n",
    "    # Calculating the standard deviation of x from\n",
    "    # the squareroot of the variance and multiplying\n",
    "    # with the given number of standard deviations.\n",
    "    scale_x = np.sqrt(cov[0, 0]) * n_std\n",
    "    mean_x = mean[0]\n",
    "\n",
    "    # calculating the standard deviation of y ...\n",
    "    scale_y = np.sqrt(cov[1, 1]) * n_std\n",
    "    mean_y = mean[1]\n",
    "\n",
    "    transf = transforms.Affine2D() \\\n",
    "        .rotate_deg(45) \\\n",
    "        .scale(scale_x, scale_y) \\\n",
    "        .translate(mean_x, mean_y)\n",
    "\n",
    "    ellipse.set_transform(transf + ax.transData)\n",
    "    return ax.add_patch(ellipse)\n",
    "\n",
    "\n",
    "\n",
    "def kullback_leibler(mu1_x, mu1_y, mu2_x, mu2_y, cov1_xx, cov1_xy, cov1_yy, cov2_xx, cov2_xy, cov2_yy):\n",
    "\n",
    "    fig, ax = plt.subplots(figsize=(3, 3))\n",
    "\n",
    "    mu1 = np.array([mu1_x, mu1_y])\n",
    "    mu2 = np.array([mu2_x, mu2_y])\n",
    "    cov1 = np.array([[cov1_xx, cov1_xy], [cov1_xy, cov1_yy]])\n",
    "    cov2 = np.array([[cov2_xx, cov2_xy], [cov2_xy, cov2_yy]])\n",
    "\n",
    "    covariance_ellipse(cov1, mu1, ax, color = 'blue')\n",
    "    covariance_ellipse(cov2, mu2, ax, color = 'red')\n",
    "\n",
    "    ax.scatter(mu1[0], mu1[1], c='blue', s=3)\n",
    "    ax.scatter(mu2[0], mu2[1], c='red', s=3)\n",
    "\n",
    "    plt.show()\n",
    "\n",
    "    return \"kl-divergence: \" + str(kl_divergence(mu1, mu2, cov1, cov2))\n",
    "     \n",
    "widgets.interact(kullback_leibler, mu1_x = widgets.FloatSlider(min=-5, max=5, step=0.1, value=1),\n",
    "                                    mu1_y = widgets.FloatSlider(min=-5, max=5, step=0.1, value=2),\n",
    "                                    mu2_x = widgets.FloatSlider(min=-5, max=5, step=0.1, value=2),\n",
    "                                    mu2_y = widgets.FloatSlider(min=-5, max=5, step=0.1, value=1),\n",
    "                                    cov1_xx = widgets.FloatSlider(min=0.1, max=5, step=0.1, value=3),\n",
    "                                    cov1_xy = widgets.FloatSlider(min=-5, max=5, step=0.1, value=1),\n",
    "                                    cov1_yy = widgets.FloatSlider(min=0.1, max=5, step=0.1, value=4),\n",
    "                                    cov2_xx = widgets.FloatSlider(min=0.1, max=5, step=0.1, value=2),\n",
    "                                    cov2_xy = widgets.FloatSlider(min=-5, max=5, step=0.1, value=0),\n",
    "                                    cov2_yy = widgets.FloatSlider(min=0.1, max=5, step=0.1, value=2))"
   ]
  },
  {
   "cell_type": "code",
   "execution_count": 3,
   "metadata": {},
   "outputs": [
    {
     "data": {
      "text/plain": [
       "[<matplotlib.lines.Line2D at 0x1daff590dd0>]"
      ]
     },
     "execution_count": 3,
     "metadata": {},
     "output_type": "execute_result"
    },
    {
     "data": {
      "image/png": "[encoded data removed]",
      "text/plain": [
       "<Figure size 640x480 with 1 Axes>"
      ]
     },
     "metadata": {},
     "output_type": "display_data"
    }
   ],
   "source": [
    "\n",
    "cov1 = np.array([[2, 0], [0, 3]])\n",
    "cov2 = np.array([[2, 0], [0, 2]])\n",
    "mu1 = np.array([0, 0])\n",
    "mu2 = np.array([0, 0])\n",
    "\n",
    "x = np.linspace(0, 100, 10)\n",
    "\n",
    "y = []\n",
    "for i in x:\n",
    "    mu2[0] = i\n",
    "    y.append(kl_divergence(mu1, mu2, cov1, cov2))\n",
    "\n",
    "plt.plot(x, y)"
   ]
  },
  {
   "cell_type": "code",
   "execution_count": 34,
   "metadata": {},
   "outputs": [
    {
     "data": {
      "text/plain": [
       "6.925207743767312"
      ]
     },
     "execution_count": 34,
     "metadata": {},
     "output_type": "execute_result"
    }
   ],
   "source": [
    "kl_divergence(mu1, [0,5.26315789], cov1, cov2)"
   ]
  },
  {
   "cell_type": "code",
   "execution_count": 30,
   "metadata": {},
   "outputs": [
    {
     "data": {
      "text/plain": [
       "array([ 0.        ,  0.52631579,  1.05263158,  1.57894737,  2.10526316,\n",
       "        2.63157895,  3.15789474,  3.68421053,  4.21052632,  4.73684211,\n",
       "        5.26315789,  5.78947368,  6.31578947,  6.84210526,  7.36842105,\n",
       "        7.89473684,  8.42105263,  8.94736842,  9.47368421, 10.        ])"
      ]
     },
     "execution_count": 30,
     "metadata": {},
     "output_type": "execute_result"
    }
   ],
   "source": [
    "x"
   ]
  },
  {
   "cell_type": "code",
   "execution_count": null,
   "metadata": {},
   "outputs": [],
   "source": []
  }
 ],
 "metadata": {
  "kernelspec": {
   "display_name": "bachelor",
   "language": "python",
   "name": "python3"
  },
  "language_info": {
   "codemirror_mode": {
    "name": "ipython",
    "version": 3
   },
   "file_extension": ".py",
   "mimetype": "text/x-python",
   "name": "python",
   "nbconvert_exporter": "python",
   "pygments_lexer": "ipython3",
   "version": "3.11.3"
  },
  "orig_nbformat": 4
 },
 "nbformat": 4,
 "nbformat_minor": 2
}
